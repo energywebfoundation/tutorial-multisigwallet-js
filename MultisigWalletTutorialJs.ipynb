{
 "cells": [
  {
   "cell_type": "markdown",
   "metadata": {},
   "source": [
    "# Multisig Wallet tutorial and playground with JavaScript & web3.js\n",
    "Tested on Energy Web Foundation's Tobalaba test network.\n",
    "\n",
    "\n",
    "Please make 3 test accounts with some test tokens for experimentation"
   ]
  },
  {
   "cell_type": "code",
   "execution_count": null,
   "metadata": {},
   "outputs": [],
   "source": [
    "const Web3 = require('web3');\n",
    "const fs = require(\"fs\");\n",
    "const eventutils = require(\"./utils.js\");\n",
    "\n",
    "// Deployed factory address on Tobalaba\n",
    "const factoryWithDLAddress = \"0x7d4ae47c29790f22f157982d84445fa8e2c6e178\"\n",
    "\n",
    "const factoryWithDLAbi = JSON.parse(fs.readFileSync(\"contracts/MultiSigWalletWithDailyLimitFactory.json\"))[\"abi\"]\n",
    "const walletWithDLAbi = JSON.parse(fs.readFileSync(\"contracts/MultiSigWalletWithDailyLimit.json\"))[\"abi\"]\n",
    "\n",
    "const ADDRESS_EMPTY = '0x0000000000000000000000000000000000000000'"
   ]
  },
  {
   "cell_type": "code",
   "execution_count": null,
   "metadata": {},
   "outputs": [],
   "source": [
    "const provider = new Web3.providers.HttpProvider(\"http://localhost:8545\")\n",
    "const w3 = new Web3(provider)\n",
    "\n",
    "// you should have 3 accounts to play around\n",
    "console.log(w3.eth.accounts)\n",
    "w3.eth.defaultAccount = w3.eth.accounts[0]\n",
    "//w3.personal.unlockAccount(w3.eth.defaultAccount, \"passwordhere\")"
   ]
  },
  {
   "cell_type": "markdown",
   "metadata": {},
   "source": [
    "### 0. Let's create the factory instance"
   ]
  },
  {
   "cell_type": "code",
   "execution_count": null,
   "metadata": {},
   "outputs": [],
   "source": [
    "FactoryWithDailyLimit = w3.eth.contract(factoryWithDLAbi)\n",
    "WalletWithDailyLimit = w3.eth.contract(walletWithDLAbi)\n",
    "\n",
    "factoryWithDailyLimit = FactoryWithDailyLimit.at(factoryWithDLAddress)\n",
    "console.log(\"---\")"
   ]
  },
  {
   "cell_type": "markdown",
   "metadata": {},
   "source": [
    "### 1. Let's create a multisig wallet\n",
    "You need:\n",
    " - the owner account addresses\n",
    " - how many confirmations are needed to perform transactions\n",
    " - daily limit -> the amount that can be withrdrawn per day without the confirmation of others\n",
    "\n",
    "These setting can be later changed\n",
    "\n",
    "2 ways to create the wallet:\n",
    " 1. using the deployed wallet factory (simpler)\n",
    " 2. compiling and deploying the Wallet contract yourself\n",
    " \n",
    "The first method is demonstrated here"
   ]
  },
  {
   "cell_type": "code",
   "execution_count": null,
   "metadata": {},
   "outputs": [],
   "source": [
    "var address1 = w3.eth.accounts[0]\n",
    "var address2 = w3.eth.accounts[1]\n",
    "var address3 = w3.eth.accounts[2]\n",
    "\n",
    "var requiredConfirmations = 2\n",
    "var dailyLimit = 0\n",
    "\n",
    "var txHash = factoryWithDailyLimit.create([address1, address2, address3], requiredConfirmations, dailyLimit, {\"from\": address1, \"gas\": 5000000})"
   ]
  },
  {
   "cell_type": "markdown",
   "metadata": {},
   "source": [
    "The factory emits a ```ContractInstantiation(address sender, address instantiation)``` event in case of a newly created wallet. We can get the wallet's address by accessing it.\n",
    "You can either read the event logs and parse the data from the transaction receipt, or set a filter for the event and scan for it. The first method is shown. Then the wallet contract is then instantiated using the address and its ABI."
   ]
  },
  {
   "cell_type": "code",
   "execution_count": null,
   "metadata": {},
   "outputs": [],
   "source": [
    "var tx = w3.eth.getTransactionReceipt(txHash)\n",
    "var logs = eventutils.logParser(tx.logs, factoryWithDLAbi, 'ContractInstantiation')\n",
    "var myWalletAddress = logs[0].args.instantiation\n",
    "\n",
    "var myWallet = w3.eth.contract(walletWithDLAbi).at(myWalletAddress)\n",
    "\n",
    "console.log(\"Your deployed wallet address is: \" + myWalletAddress)\n",
    "console.log(\"Owners are: \" + myWallet.getOwners.call())\n",
    "console.log(\"Daily withdraw limit w/o confirmations: \" + myWallet.dailyLimit.call() + \" wei\")\n",
    "console.log(\"Allowed withdraw for today w/o confirmations: \" + myWallet.calcMaxWithdraw.call()+ \" wei\")\n",
    "console.log(\"Required confirmations: \" + myWallet.required.call())"
   ]
  },
  {
   "cell_type": "markdown",
   "metadata": {},
   "source": [
    "### 2. Let's send some play tokens to the wallet\n",
    "E.g. 2 ethers for playing around"
   ]
  },
  {
   "cell_type": "code",
   "execution_count": null,
   "metadata": {},
   "outputs": [],
   "source": [
    "w3.eth.sendTransaction({\"from\": w3.eth.accounts[0],\n",
    "                        \"to\": myWalletAddress,\n",
    "                        \"value\": w3.toWei(2, \"ether\")})"
   ]
  },
  {
   "cell_type": "markdown",
   "metadata": {},
   "source": [
    "### 3. Let's try to withdraw some money back to account 1\n",
    " 1. We submit a transaction invoking the ```submitTransaction(address destination, uint value, bytes data)```. ```value``` is where the transferrable 'money' goes in wei. More about the ```data``` field below in secton 5.\n",
    " 2. We need to get the transaction ID: the wallet emits a ```Submission(uint indexed transactionId)``` event in case of  successful submission. We can read it out from the receipt."
   ]
  },
  {
   "cell_type": "code",
   "execution_count": null,
   "metadata": {},
   "outputs": [],
   "source": [
    "var txHash2 = myWallet.submitTransaction.sendTransaction(address1, w3.toWei(1, \"ether\"), 0,{\"from\": address1})"
   ]
  },
  {
   "cell_type": "code",
   "execution_count": null,
   "metadata": {},
   "outputs": [],
   "source": [
    "var tx2 = w3.eth.getTransactionReceipt(txHash2)\n",
    "var logs2 = logParser(tx2.logs, walletWithDLAbi, 'Submission')\n",
    "var transactionId = logs2[0].args.transactionId\n",
    "\n",
    "console.log(\"Transaction id: \"+ transactionId)"
   ]
  },
  {
   "cell_type": "markdown",
   "metadata": {},
   "source": [
    "#### 3.1 Let's check out the state of our submission"
   ]
  },
  {
   "cell_type": "code",
   "execution_count": null,
   "metadata": {},
   "outputs": [],
   "source": [
    "console.log(\"Transaction count: \" + myWallet.transactionCount.call())\n",
    "console.log(\"Our transaction [destination/value/data/executed]: \" + myWallet.transactions.call(transactionId))\n",
    "console.log(\"Confirmed by \" + address1 +\": \" + myWallet.confirmations.call(transactionId, address1))\n",
    "console.log(\"Confirmed by \" + address2 +\": \" + myWallet.confirmations.call(transactionId, address2))\n",
    "console.log(\"Confirmed by \" + address3 +\": \" + myWallet.confirmations.call(transactionId, address3))"
   ]
  },
  {
   "cell_type": "markdown",
   "metadata": {},
   "source": [
    "#### 3.2 You can check that as long as the submission is not confirmed by at least another owner, you cannot send it"
   ]
  },
  {
   "cell_type": "code",
   "execution_count": null,
   "metadata": {},
   "outputs": [],
   "source": [
    "myWallet.executeTransaction.sendTransaction(transactionId, {\"from\": address1, \"gas\": 800000})"
   ]
  },
  {
   "cell_type": "code",
   "execution_count": null,
   "metadata": {},
   "outputs": [],
   "source": [
    "console.log(\"Our transaction [destination/value/data/executed]: \" + myWallet.transactions.call(transactionId))"
   ]
  },
  {
   "cell_type": "markdown",
   "metadata": {},
   "source": [
    "### 4. Confirm the transaction with other owners\n",
    " - ```confirmTransaction(uint transactionId)```\n",
    " - needs the transaction ID, and the sender needs to be the owner who confirms\n",
    " - a confirmed transaction can be executed by ``` executeTransaction(transactionId)```\n",
    " - ``` executeTransaction(transactionId)``` is automatically triggered if the number of confirmations reach the required with this last ```confirmTransaction``` and all conditions are met\n"
   ]
  },
  {
   "cell_type": "code",
   "execution_count": null,
   "metadata": {},
   "outputs": [],
   "source": [
    "myWallet.confirmTransaction.sendTransaction(transactionId, {\"from\": address2, \"gas\": 800000})"
   ]
  },
  {
   "cell_type": "code",
   "execution_count": null,
   "metadata": {},
   "outputs": [],
   "source": [
    "console.log(\"Our transaction [destination/value/data/executed]: \" + myWallet.transactions.call(transactionId))"
   ]
  },
  {
   "cell_type": "markdown",
   "metadata": {},
   "source": [
    "You can see that the transaction status is executed and the money appears on you destination account."
   ]
  },
  {
   "cell_type": "markdown",
   "metadata": {},
   "source": [
    "### 5. Change daily limit \n",
    "You cannot calll the wallet's changeDailyLimit function directly, it needs to be a confirmed transaction. You can change the daily limit, owners and required confirmation as well, with the consent of the owners."
   ]
  },
  {
   "cell_type": "markdown",
   "metadata": {},
   "source": [
    "#### How to invoke Smart Contract methods using your Multisig Wallet\n",
    "\n",
    "If you look at the function signature ```submitTransaction(address destination, uint value, bytes data)``` you notice a ```bytes data``` field. It is used to invoke functionalities of a contract and can be left empty or bytes(0) for regular value transfers. Remember that invoking SC functions is just a regular transaction containing the relevant calldata. Calldata is obtained by encoding the desired function's signature and its parameters, but fortunately web3 libraries already do the heavy lifting for you, so no need to do this manually. The recipient address needs to be the address of the Smart Contract whose method you want to invoke.\n",
    "\n",
    "In this case we want to invoke the ```changeDailyLimit``` function of our wallet Smart Contract. We need the ABI to encode the calldata easily."
   ]
  },
  {
   "cell_type": "code",
   "execution_count": null,
   "metadata": {},
   "outputs": [],
   "source": [
    "var callData = myWallet.changeDailyLimit.getData(w3.toWei(1, \"ether\"))\n",
    "var txHash3=myWallet.submitTransaction.sendTransaction(myWalletAddress, 0, callData, {\"from\": address1})"
   ]
  },
  {
   "cell_type": "markdown",
   "metadata": {},
   "source": [
    "After this points everything goes as with any other transaction from our wallet"
   ]
  },
  {
   "cell_type": "code",
   "execution_count": null,
   "metadata": {},
   "outputs": [],
   "source": [
    "var tx3 = w3.eth.getTransactionReceipt(txHash3)\n",
    "var logs3 = logParser(tx3.logs, walletWithDLAbi, 'Submission')\n",
    "var transactionId = logs3[0].args.transactionId\n",
    "\n",
    "console.log(\"Transaction id: \"+ transactionId)"
   ]
  },
  {
   "cell_type": "markdown",
   "metadata": {},
   "source": [
    "We confirm it with another account as well, which triggers the transaction"
   ]
  },
  {
   "cell_type": "code",
   "execution_count": null,
   "metadata": {},
   "outputs": [],
   "source": [
    "myWallet.confirmTransaction.sendTransaction(transactionId, {\"from\": address2, \"gas\": 800000})"
   ]
  },
  {
   "cell_type": "code",
   "execution_count": null,
   "metadata": {},
   "outputs": [],
   "source": [
    "if(myWallet.transactions.call(transactionId)[3] == true) {\n",
    "    console.log(\"Transaction \" + transactionId + \" is executed\")\n",
    "    console.log(\"Daily withdraw limit w/o confirmations: \" + myWallet.dailyLimit.call() + \" wei\")\n",
    "} else {\n",
    "    console.log(\"Transaction \" + transactionId + \"is not executed\")\n",
    "}"
   ]
  },
  {
   "cell_type": "markdown",
   "metadata": {},
   "source": [
    "You should see that the daily limit has changed"
   ]
  },
  {
   "cell_type": "markdown",
   "metadata": {},
   "source": [
    "### 6. Withdraw some ether w/o confirmation\n",
    "##### Now that the daily limit is changed, it is time to test it. Calldata is 0."
   ]
  },
  {
   "cell_type": "code",
   "execution_count": null,
   "metadata": {},
   "outputs": [],
   "source": [
    "var txHash4 = myWallet.submitTransaction.sendTransaction(address1, w3.toWei(0.7, \"ether\"), 0, {\"from\": address1})"
   ]
  },
  {
   "cell_type": "code",
   "execution_count": null,
   "metadata": {},
   "outputs": [],
   "source": [
    "var tx4 = w3.eth.getTransactionReceipt(txHash4)\n",
    "var logs4 = logParser(tx4.logs, walletWithDLAbi, 'Submission')\n",
    "var transactionId = logs4[0].args.transactionId\n",
    "\n",
    "console.log(\"Transaction id: \"+ transactionId)"
   ]
  },
  {
   "cell_type": "code",
   "execution_count": null,
   "metadata": {},
   "outputs": [],
   "source": [
    "console.log(\"Transaction count: \" + myWallet.transactionCount.call())\n",
    "console.log(\"Our transaction [destination/value/data/executed]: \" + myWallet.transactions.call(transactionId))\n",
    "console.log(\"Confirmed by \" + address1 +\": \" + myWallet.confirmations.call(transactionId, address1))\n",
    "console.log(\"Confirmed by \" + address2 +\": \" + myWallet.confirmations.call(transactionId, address2))\n",
    "console.log(\"Confirmed by \" + address3 +\": \" + myWallet.confirmations.call(transactionId, address3))"
   ]
  },
  {
   "cell_type": "markdown",
   "metadata": {},
   "source": [
    "##### You can see that the transaction is executed, but only 1 account confirmed it. Let's check the remaining daily quota.\n",
    "The daily quota is calculated for \"today\" by comparing the current time to a unix timestamp called ```lastDay```. If the curent moment is past ```lastDay + 24 hours``` then the daily quota resets. The lastDay timestamp is initially zero and is first set in the contract when we try to make a withdrawal."
   ]
  },
  {
   "cell_type": "code",
   "execution_count": null,
   "metadata": {},
   "outputs": [],
   "source": [
    "console.log(\"Daily withdraw limit w/o confirmations: \" + myWallet.dailyLimit.call() + \" wei\")\n",
    "console.log(\"Allowed withdraw for today w/o confirmations: \" + myWallet.calcMaxWithdraw.call()+ \" wei\")\n",
    "var lastDay = myWallet.lastDay.call()\n",
    "console.log(\"Last day: \" + lastDay + \" -> \" + new Date(lastDay*1000))"
   ]
  },
  {
   "cell_type": "markdown",
   "metadata": {},
   "source": [
    "### 7. Let's remove an owner\n",
    "Steps are very similar to changing the daily limit. You can manage ownership with```removeOwner(address owner)``` and```replaceOwner(address owner, address newOwner)``` methods, and change the confirmations needed with ```changeRequirement(uint _required)```.\n",
    "\n",
    "I remove owner n3 in this example"
   ]
  },
  {
   "cell_type": "code",
   "execution_count": null,
   "metadata": {},
   "outputs": [],
   "source": [
    "callData = myWallet.removeOwner.getData(address3)\n",
    "var txHash5 = myWallet.submitTransaction.sendTransaction(myWalletAddress, 0, callData, {\"from\": address1})"
   ]
  },
  {
   "cell_type": "code",
   "execution_count": null,
   "metadata": {},
   "outputs": [],
   "source": [
    "var tx5 = w3.eth.getTransactionReceipt(txHash5)\n",
    "var logs5 = logParser(tx5.logs, walletWithDLAbi, 'Submission')\n",
    "var transactionId = logs5[0].args.transactionId\n",
    "\n",
    "console.log(\"Transaction id: \"+ transactionId)"
   ]
  },
  {
   "cell_type": "code",
   "execution_count": null,
   "metadata": {},
   "outputs": [],
   "source": [
    "myWallet.confirmTransaction.sendTransaction(transactionId, {\"from\": address2, \"gas\": 800000})"
   ]
  },
  {
   "cell_type": "code",
   "execution_count": null,
   "metadata": {},
   "outputs": [],
   "source": [
    "if(myWallet.transactions.call(transactionId)[3] == true) {\n",
    "    console.log(\"Transaction \" + transactionId + \" is executed\")\n",
    "    console.log(\"Owners are: \" + myWallet.getOwners.call())\n",
    "} else {\n",
    "    console.log(\"Transaction \" + transactionId + \"is not executed\")\n",
    "}"
   ]
  },
  {
   "cell_type": "markdown",
   "metadata": {},
   "source": [
    "##### You should see the chosen owner disappeared from the list"
   ]
  },
  {
   "cell_type": "markdown",
   "metadata": {},
   "source": [
    "### 8. Your experiments here\n",
    "Feel free to play around with your Multisig wallet"
   ]
  },
  {
   "cell_type": "code",
   "execution_count": null,
   "metadata": {},
   "outputs": [],
   "source": []
  }
 ],
 "metadata": {
  "kernelspec": {
   "display_name": "Javascript (Node.js)",
   "language": "javascript",
   "name": "javascript"
  },
  "language_info": {
   "file_extension": ".js",
   "mimetype": "application/javascript",
   "name": "javascript",
   "version": "8.11.3"
  }
 },
 "nbformat": 4,
 "nbformat_minor": 2
}
